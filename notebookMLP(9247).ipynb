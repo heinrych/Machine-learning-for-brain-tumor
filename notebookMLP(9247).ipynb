{
 "cells": [
  {
   "cell_type": "code",
   "execution_count": 1,
   "id": "8bebd22f",
   "metadata": {
    "execution": {
     "iopub.execute_input": "2022-08-05T19:31:05.027942Z",
     "iopub.status.busy": "2022-08-05T19:31:05.027513Z",
     "iopub.status.idle": "2022-08-05T19:31:12.999300Z",
     "shell.execute_reply": "2022-08-05T19:31:12.998087Z"
    },
    "papermill": {
     "duration": 7.981591,
     "end_time": "2022-08-05T19:31:13.002214",
     "exception": false,
     "start_time": "2022-08-05T19:31:05.020623",
     "status": "completed"
    },
    "tags": []
   },
   "outputs": [],
   "source": [
    "import os\n",
    "import cv2\n",
    "import numpy as np\n",
    "import matplotlib.pyplot as plt\n",
    "import numpy as np\n",
    "import re\n",
    "import random\n",
    "\n",
    "\n",
    "from tensorflow.keras.applications import ResNet50, InceptionV3, InceptionResNetV2\n",
    "from tensorflow.keras.preprocessing import image\n",
    "from tensorflow.keras.models import Model\n",
    "from tensorflow.keras.applications.resnet50 import preprocess_input\n",
    "from sklearn.model_selection import train_test_split\n",
    "from sklearn.model_selection import cross_val_score\n",
    "from sklearn.preprocessing import StandardScaler  \n",
    "from sklearn.model_selection import cross_validate \n",
    "from sklearn.model_selection import ShuffleSplit\n",
    "\n",
    "from PIL import Image\n",
    "\n",
    "from sklearn.metrics import classification_report\n",
    "from sklearn.metrics import confusion_matrix\n",
    "from sklearn.metrics import accuracy_score\n",
    "\n",
    "from sklearn.neighbors import KNeighborsClassifier\n",
    "import pandas as pd\n",
    "\n",
    "from sklearn.pipeline import Pipeline\n",
    "from sklearn.neural_network import MLPClassifier\n",
    "from sklearn.model_selection import StratifiedKFold, GridSearchCV, cross_val_score\n",
    "from sklearn.metrics import accuracy_score, confusion_matrix, roc_curve, roc_auc_score, classification_report\n",
    "from sklearn.preprocessing import Normalizer, MinMaxScaler, StandardScaler, RobustScaler, QuantileTransformer, LabelEncoder"
   ]
  },
  {
   "cell_type": "code",
   "execution_count": 2,
   "id": "eabeab06",
   "metadata": {
    "execution": {
     "iopub.execute_input": "2022-08-05T19:31:16.354614Z",
     "iopub.status.busy": "2022-08-05T19:31:16.353858Z",
     "iopub.status.idle": "2022-08-05T19:31:18.868170Z",
     "shell.execute_reply": "2022-08-05T19:31:18.866814Z"
    },
    "papermill": {
     "duration": 2.52511,
     "end_time": "2022-08-05T19:31:18.870938",
     "exception": false,
     "start_time": "2022-08-05T19:31:16.345828",
     "status": "completed"
    },
    "tags": []
   },
   "outputs": [
    {
     "name": "stdout",
     "output_type": "stream",
     "text": [
      "(2870, 2048)\n",
      "(395, 2049) (826, 2049) (822, 2049) (827, 2049)\n",
      "(2007, 2049) (863, 2049)\n"
     ]
    }
   ],
   "source": [
    "import pandas as pd\n",
    "from sklearn.model_selection import train_test_split\n",
    "\n",
    "train_features_array = pd.read_csv('./train_features_crop_equalise.csv')\n",
    "\n",
    "print(train_features_array.shape)\n",
    "\n",
    "data_y = pd.read_csv('./train.csv')\n",
    "\n",
    "df = pd.concat([pd.DataFrame(train_features_array), data_y['Label']], axis=1)\n",
    "\n",
    "# print(df[0])\n",
    "\n",
    "type_0 = df[df['Label'] == 0]\n",
    "type_1 = df[df['Label'] == 1]\n",
    "type_2 = df[df['Label'] == 2]\n",
    "type_3 = df[df['Label'] == 3]\n",
    "\n",
    "print(type_0.shape, type_1.shape, type_2.shape, type_3.shape)\n",
    "\n",
    "type_0_train, type_0_test = train_test_split(type_0, test_size=0.3, random_state=42)\n",
    "type_1_train, type_1_test = train_test_split(type_1, test_size=0.3, random_state=42)\n",
    "type_2_train, type_2_test = train_test_split(type_2, test_size=0.3, random_state=42)\n",
    "type_3_train, type_3_test = train_test_split(type_3, test_size=0.3, random_state=42)\n",
    "\n",
    "train_set = pd.concat([type_0_train, type_1_train, type_2_train, type_3_train], axis=0)\n",
    "test_set = pd.concat([type_0_test, type_1_test, type_2_test, type_3_test], axis=0)\n",
    "\n",
    "print(train_set.shape, test_set.shape)\n"
   ]
  },
  {
   "cell_type": "code",
   "execution_count": 3,
   "id": "caff0d23",
   "metadata": {
    "execution": {
     "iopub.execute_input": "2022-08-05T19:31:18.886917Z",
     "iopub.status.busy": "2022-08-05T19:31:18.886456Z",
     "iopub.status.idle": "2022-08-05T19:31:18.940392Z",
     "shell.execute_reply": "2022-08-05T19:31:18.939275Z"
    },
    "papermill": {
     "duration": 0.065076,
     "end_time": "2022-08-05T19:31:18.943250",
     "exception": false,
     "start_time": "2022-08-05T19:31:18.878174",
     "status": "completed"
    },
    "tags": []
   },
   "outputs": [
    {
     "name": "stdout",
     "output_type": "stream",
     "text": [
      "(2007, 2048) (2007,) (863, 2048) (863,)\n"
     ]
    }
   ],
   "source": [
    "X_train = train_set.drop(columns=['Label'])\n",
    "y_train = train_set['Label']\n",
    "\n",
    "X_test = test_set.drop(columns=['Label'])\n",
    "y_test = test_set['Label']\n",
    "\n",
    "print(X_train.shape, y_train.shape, X_test.shape, y_test.shape)"
   ]
  },
  {
   "cell_type": "markdown",
   "id": "f9b53633",
   "metadata": {
    "papermill": {
     "duration": 0.006636,
     "end_time": "2022-08-05T19:31:18.956921",
     "exception": false,
     "start_time": "2022-08-05T19:31:18.950285",
     "status": "completed"
    },
    "tags": []
   },
   "source": [
    "# TREINO "
   ]
  },
  {
   "cell_type": "code",
   "execution_count": 4,
   "id": "1b100a6e",
   "metadata": {
    "execution": {
     "iopub.execute_input": "2022-08-05T20:45:17.015056Z",
     "iopub.status.busy": "2022-08-05T20:45:17.014639Z",
     "iopub.status.idle": "2022-08-05T20:45:17.168219Z",
     "shell.execute_reply": "2022-08-05T20:45:17.167006Z"
    },
    "papermill": {
     "duration": 0.173414,
     "end_time": "2022-08-05T20:45:17.172162",
     "exception": false,
     "start_time": "2022-08-05T20:45:16.998748",
     "status": "completed"
    },
    "tags": []
   },
   "outputs": [],
   "source": [
    "scaler = StandardScaler(copy=True, with_mean=True, with_std=True)\n",
    "\n",
    "X_train_scaler = scaler.fit_transform(X_train)\n",
    "X_test_scaler = scaler.transform(X_test)"
   ]
  },
  {
   "cell_type": "code",
   "execution_count": 7,
   "id": "c0aa5107",
   "metadata": {
    "execution": {
     "iopub.execute_input": "2022-08-05T20:45:17.198626Z",
     "iopub.status.busy": "2022-08-05T20:45:17.198029Z",
     "iopub.status.idle": "2022-08-05T20:45:52.892721Z",
     "shell.execute_reply": "2022-08-05T20:45:52.890580Z"
    },
    "papermill": {
     "duration": 35.71446,
     "end_time": "2022-08-05T20:45:52.898682",
     "exception": false,
     "start_time": "2022-08-05T20:45:17.184222",
     "status": "completed"
    },
    "tags": []
   },
   "outputs": [
    {
     "name": "stdout",
     "output_type": "stream",
     "text": [
      "Iteration 1, loss = 0.82563512\n",
      "Iteration 2, loss = 0.24255897\n",
      "Iteration 3, loss = 0.12054793\n",
      "Iteration 4, loss = 0.08314043\n",
      "Iteration 5, loss = 0.05056939\n",
      "Iteration 6, loss = 0.04892762\n",
      "Iteration 7, loss = 0.03073907\n",
      "Iteration 8, loss = 0.02911927\n",
      "Iteration 9, loss = 0.02053222\n",
      "Iteration 10, loss = 0.01775320\n",
      "Iteration 11, loss = 0.01661114\n",
      "Iteration 12, loss = 0.01418506\n",
      "Iteration 13, loss = 0.01288157\n",
      "Iteration 14, loss = 0.01205570\n",
      "Iteration 15, loss = 0.01151447\n",
      "Iteration 16, loss = 0.01086337\n",
      "Iteration 17, loss = 0.01069093\n",
      "Iteration 18, loss = 0.00998449\n",
      "Iteration 19, loss = 0.00947117\n",
      "Iteration 20, loss = 0.00913625\n",
      "Iteration 21, loss = 0.00901124\n",
      "Iteration 22, loss = 0.00862713\n",
      "Iteration 23, loss = 0.00848337\n",
      "Iteration 24, loss = 0.00827953\n",
      "Iteration 25, loss = 0.00821879\n",
      "Iteration 26, loss = 0.00807336\n",
      "Iteration 27, loss = 0.00781576\n",
      "Iteration 28, loss = 0.00764592\n",
      "Iteration 29, loss = 0.00752091\n",
      "Iteration 30, loss = 0.00737844\n",
      "Iteration 31, loss = 0.00727967\n",
      "Iteration 32, loss = 0.00717900\n",
      "Iteration 33, loss = 0.00708517\n",
      "Iteration 34, loss = 0.00711960\n",
      "Iteration 35, loss = 0.00701147\n",
      "Iteration 36, loss = 0.00688621\n",
      "Iteration 37, loss = 0.00680066\n",
      "Iteration 38, loss = 0.00673598\n",
      "Iteration 39, loss = 0.00666797\n",
      "Iteration 40, loss = 0.00660763\n",
      "Iteration 41, loss = 0.00654909\n",
      "Iteration 42, loss = 0.00648969\n",
      "Iteration 43, loss = 0.00643007\n",
      "Iteration 44, loss = 0.00640559\n",
      "Iteration 45, loss = 0.00634591\n",
      "Iteration 46, loss = 0.00628649\n",
      "Iteration 47, loss = 0.00623194\n",
      "Iteration 48, loss = 0.00618340\n",
      "Iteration 49, loss = 0.00613752\n",
      "Iteration 50, loss = 0.00609260\n",
      "Iteration 51, loss = 0.00604791\n",
      "Iteration 52, loss = 0.00600861\n",
      "Iteration 53, loss = 0.00597612\n",
      "Iteration 54, loss = 0.00593057\n",
      "Iteration 55, loss = 0.00589163\n",
      "Iteration 56, loss = 0.00585344\n",
      "Iteration 57, loss = 0.00581556\n",
      "Iteration 58, loss = 0.00577879\n",
      "Iteration 59, loss = 0.00574492\n",
      "Iteration 60, loss = 0.00572582\n",
      "Iteration 61, loss = 0.00567763\n",
      "Iteration 62, loss = 0.00564041\n",
      "Iteration 63, loss = 0.00561024\n",
      "Iteration 64, loss = 0.00557421\n",
      "Iteration 65, loss = 0.00554201\n",
      "Iteration 66, loss = 0.00550746\n",
      "Iteration 67, loss = 0.00547661\n",
      "Iteration 68, loss = 0.00544288\n",
      "Iteration 69, loss = 0.00541192\n",
      "Iteration 70, loss = 0.00541859\n",
      "Iteration 71, loss = 0.00537154\n",
      "Iteration 72, loss = 0.00533816\n",
      "Iteration 73, loss = 0.00529609\n",
      "Iteration 74, loss = 0.00526837\n",
      "Iteration 75, loss = 0.00523458\n",
      "Iteration 76, loss = 0.00519996\n",
      "Iteration 77, loss = 0.00516615\n",
      "Iteration 78, loss = 0.00513344\n",
      "Iteration 79, loss = 0.00510355\n",
      "Iteration 80, loss = 0.00507790\n",
      "Iteration 81, loss = 0.00505054\n",
      "Iteration 82, loss = 0.00501563\n",
      "Iteration 83, loss = 0.00498820\n",
      "Iteration 84, loss = 0.00497462\n",
      "Iteration 85, loss = 0.00494304\n",
      "Iteration 86, loss = 0.00490424\n",
      "Iteration 87, loss = 0.00487953\n",
      "Iteration 88, loss = 0.00484753\n",
      "Iteration 89, loss = 0.00482523\n",
      "Iteration 90, loss = 0.00479002\n",
      "Iteration 91, loss = 0.00475965\n",
      "Iteration 92, loss = 0.00472924\n",
      "Iteration 93, loss = 0.00469816\n",
      "Iteration 94, loss = 0.00467138\n",
      "Iteration 95, loss = 0.00464427\n",
      "Iteration 96, loss = 0.00462050\n",
      "Iteration 97, loss = 0.00459465\n",
      "Iteration 98, loss = 0.00456343\n",
      "Iteration 99, loss = 0.00453416\n",
      "Iteration 100, loss = 0.00450642\n",
      "Iteration 101, loss = 0.00448795\n",
      "Iteration 102, loss = 0.00445964\n",
      "Iteration 103, loss = 0.00442855\n",
      "Iteration 104, loss = 0.00440235\n",
      "Iteration 105, loss = 0.00437474\n",
      "Iteration 106, loss = 0.00434773\n",
      "Iteration 107, loss = 0.00432301\n",
      "Iteration 108, loss = 0.00429651\n",
      "Iteration 109, loss = 0.00427967\n",
      "Iteration 110, loss = 0.00425503\n",
      "Iteration 111, loss = 0.00422540\n",
      "Iteration 112, loss = 0.00419985\n",
      "Iteration 113, loss = 0.00417225\n",
      "Iteration 114, loss = 0.00414678\n",
      "Iteration 115, loss = 0.00412033\n",
      "Iteration 116, loss = 0.00410306\n",
      "Iteration 117, loss = 0.00407331\n",
      "Iteration 118, loss = 0.00404538\n",
      "Iteration 119, loss = 0.00402025\n",
      "Iteration 120, loss = 0.00399564\n",
      "Iteration 121, loss = 0.00397177\n",
      "Iteration 122, loss = 0.00395653\n",
      "Iteration 123, loss = 0.00392500\n",
      "Iteration 124, loss = 0.00389982\n",
      "Iteration 125, loss = 0.00387898\n",
      "Iteration 126, loss = 0.00385053\n",
      "Iteration 127, loss = 0.00382405\n",
      "Iteration 128, loss = 0.00379933\n",
      "Iteration 129, loss = 0.00377768\n",
      "Iteration 130, loss = 0.00375780\n",
      "Iteration 131, loss = 0.00373750\n",
      "Iteration 132, loss = 0.00371244\n",
      "Iteration 133, loss = 0.00368465\n",
      "Iteration 134, loss = 0.00365852\n",
      "Iteration 135, loss = 0.00363440\n",
      "Iteration 136, loss = 0.00361124\n",
      "Iteration 137, loss = 0.00358718\n",
      "Iteration 138, loss = 0.00356666\n",
      "Iteration 139, loss = 0.00354505\n",
      "Iteration 140, loss = 0.00352053\n",
      "Iteration 141, loss = 0.00349599\n",
      "Iteration 142, loss = 0.00347418\n",
      "Iteration 143, loss = 0.00345204\n",
      "Iteration 144, loss = 0.00343194\n",
      "Iteration 145, loss = 0.00340976\n",
      "Iteration 146, loss = 0.00338656\n",
      "Iteration 147, loss = 0.00336436\n",
      "Iteration 148, loss = 0.00334477\n",
      "Iteration 149, loss = 0.00332226\n",
      "Iteration 150, loss = 0.00330096\n",
      "Iteration 151, loss = 0.00327911\n",
      "Iteration 152, loss = 0.00325531\n",
      "Iteration 153, loss = 0.00323452\n",
      "Iteration 154, loss = 0.00322061\n",
      "Iteration 155, loss = 0.00321853\n",
      "Iteration 156, loss = 0.00318241\n",
      "Iteration 157, loss = 0.00316006\n",
      "Iteration 158, loss = 0.00313292\n",
      "Iteration 159, loss = 0.00311060\n",
      "Iteration 160, loss = 0.00308987\n",
      "Iteration 161, loss = 0.00306821\n",
      "Iteration 162, loss = 0.00304885\n",
      "Iteration 163, loss = 0.00303387\n",
      "Iteration 164, loss = 0.00301057\n",
      "Iteration 165, loss = 0.00299783\n",
      "Iteration 166, loss = 0.00297132\n",
      "Iteration 167, loss = 0.00294911\n",
      "Iteration 168, loss = 0.00293261\n",
      "Iteration 169, loss = 0.00291001\n",
      "Iteration 170, loss = 0.00289190\n",
      "Iteration 171, loss = 0.00287354\n",
      "Iteration 172, loss = 0.00285406\n",
      "Iteration 173, loss = 0.00283323\n",
      "Iteration 174, loss = 0.00281387\n",
      "Iteration 175, loss = 0.00279491\n",
      "Iteration 176, loss = 0.00277963\n",
      "Iteration 177, loss = 0.00275800\n",
      "Iteration 178, loss = 0.00274854\n",
      "Iteration 179, loss = 0.00272808\n",
      "Iteration 180, loss = 0.00270603\n",
      "Iteration 181, loss = 0.00268474\n",
      "Iteration 182, loss = 0.00266542\n",
      "Iteration 183, loss = 0.00264846\n",
      "Iteration 184, loss = 0.00263343\n",
      "Iteration 185, loss = 0.00261545\n",
      "Iteration 186, loss = 0.00259669\n",
      "Iteration 187, loss = 0.00259396\n",
      "Iteration 188, loss = 0.00256862\n",
      "Iteration 189, loss = 0.00254800\n",
      "Iteration 190, loss = 0.00253483\n",
      "Iteration 191, loss = 0.00251502\n",
      "Iteration 192, loss = 0.00250099\n",
      "Iteration 193, loss = 0.00249191\n",
      "Iteration 194, loss = 0.00247126\n",
      "Iteration 195, loss = 0.00245075\n",
      "Iteration 196, loss = 0.00243238\n",
      "Iteration 197, loss = 0.00241249\n",
      "Iteration 198, loss = 0.00239503\n",
      "Iteration 199, loss = 0.00237819\n",
      "Iteration 200, loss = 0.00236728\n",
      "Iteration 201, loss = 0.00235008\n",
      "Iteration 202, loss = 0.00233447\n",
      "Iteration 203, loss = 0.00231613\n",
      "Iteration 204, loss = 0.00230151\n",
      "Iteration 205, loss = 0.00228822\n",
      "Iteration 206, loss = 0.00227029\n",
      "Iteration 207, loss = 0.00225563\n",
      "Iteration 208, loss = 0.00223949\n",
      "Iteration 209, loss = 0.00222305\n",
      "Iteration 210, loss = 0.00220830\n",
      "Iteration 211, loss = 0.00220914\n",
      "Iteration 212, loss = 0.00219425\n",
      "Iteration 213, loss = 0.00217254\n",
      "Iteration 214, loss = 0.00215805\n",
      "Iteration 215, loss = 0.00214755\n",
      "Iteration 216, loss = 0.00212835\n",
      "Iteration 217, loss = 0.00211150\n",
      "Iteration 218, loss = 0.00211940\n",
      "Iteration 219, loss = 0.00209554\n",
      "Iteration 220, loss = 0.00207494\n",
      "Iteration 221, loss = 0.00207126\n",
      "Iteration 222, loss = 0.00204759\n",
      "Iteration 223, loss = 0.00205516\n",
      "Iteration 224, loss = 0.00202685\n",
      "Iteration 225, loss = 0.00200826\n",
      "Iteration 226, loss = 0.00200133\n",
      "Iteration 227, loss = 0.00199328\n",
      "Iteration 228, loss = 0.00196999\n",
      "Iteration 229, loss = 0.00195930\n",
      "Iteration 230, loss = 0.00194711\n",
      "Iteration 231, loss = 0.00192882\n",
      "Iteration 232, loss = 0.00192610\n",
      "Iteration 233, loss = 0.00191190\n",
      "Iteration 234, loss = 0.00190872\n",
      "Iteration 235, loss = 0.00188183\n",
      "Iteration 236, loss = 0.00186684\n",
      "Iteration 237, loss = 0.00185312\n",
      "Iteration 238, loss = 0.00184322\n",
      "Iteration 239, loss = 0.00183562\n",
      "Iteration 240, loss = 0.00182746\n",
      "Iteration 241, loss = 0.00182754\n",
      "Iteration 242, loss = 0.00181154\n",
      "Iteration 243, loss = 0.00179794\n",
      "Iteration 244, loss = 0.00178415\n",
      "Iteration 245, loss = 0.00180433\n",
      "Iteration 246, loss = 0.00177061\n",
      "Iteration 247, loss = 0.00175377\n",
      "Iteration 248, loss = 0.00174210\n",
      "Iteration 249, loss = 0.00172452\n",
      "Iteration 250, loss = 0.00171485\n",
      "Iteration 251, loss = 0.00170081\n",
      "Iteration 252, loss = 0.00169414\n",
      "Iteration 253, loss = 0.00169410\n",
      "Iteration 254, loss = 0.00167887\n",
      "Iteration 255, loss = 0.00167063\n",
      "Iteration 256, loss = 0.00165381\n",
      "Iteration 257, loss = 0.00164444\n",
      "Iteration 258, loss = 0.00163849\n",
      "Iteration 259, loss = 0.00162937\n",
      "Iteration 260, loss = 0.00163252\n",
      "Iteration 261, loss = 0.00161689\n",
      "Iteration 262, loss = 0.00160017\n",
      "Iteration 263, loss = 0.00160094\n",
      "Iteration 264, loss = 0.00158638\n",
      "Iteration 265, loss = 0.00158569\n",
      "Iteration 266, loss = 0.00160922\n",
      "Iteration 267, loss = 0.00157263\n",
      "Iteration 268, loss = 0.00155422\n",
      "Iteration 269, loss = 0.00155435\n",
      "Iteration 270, loss = 0.00154289\n",
      "Iteration 271, loss = 0.00152283\n",
      "Iteration 272, loss = 0.00150934\n",
      "Iteration 273, loss = 0.00150392\n",
      "Iteration 274, loss = 0.00149583\n",
      "Iteration 275, loss = 0.00149264\n",
      "Iteration 276, loss = 0.00147904\n",
      "Iteration 277, loss = 0.00149379\n",
      "Iteration 278, loss = 0.00150880\n",
      "Iteration 279, loss = 0.00147584\n",
      "Iteration 280, loss = 0.00145490\n",
      "Iteration 281, loss = 0.00147634\n",
      "Iteration 282, loss = 0.00144603\n",
      "Iteration 283, loss = 0.00142845\n",
      "Iteration 284, loss = 0.00141852\n",
      "Iteration 285, loss = 0.00141010\n",
      "Iteration 286, loss = 0.00139979\n",
      "Iteration 287, loss = 0.00139481\n",
      "Iteration 288, loss = 0.00138726\n",
      "Iteration 289, loss = 0.00138498\n",
      "Iteration 290, loss = 0.00138194\n",
      "Iteration 291, loss = 0.00136751\n",
      "Iteration 292, loss = 0.00136251\n",
      "Iteration 293, loss = 0.00135263\n",
      "Iteration 294, loss = 0.00136249\n",
      "Iteration 295, loss = 0.00135244\n",
      "Iteration 296, loss = 0.00135592\n",
      "Iteration 297, loss = 0.00133625\n",
      "Iteration 298, loss = 0.00132350\n",
      "Iteration 299, loss = 0.00131711\n",
      "Iteration 300, loss = 0.00137531\n"
     ]
    },
    {
     "name": "stderr",
     "output_type": "stream",
     "text": [
      "c:\\Users\\pedro\\anaconda3\\envs\\tf_2.7\\lib\\site-packages\\sklearn\\neural_network\\_multilayer_perceptron.py:692: ConvergenceWarning: Stochastic Optimizer: Maximum iterations (300) reached and the optimization hasn't converged yet.\n",
      "  warnings.warn(\n"
     ]
    },
    {
     "data": {
      "text/plain": [
       "MLPClassifier(alpha=0.01, beta_1=0.7, epsilon=5e-05, max_iter=300,\n",
       "              n_iter_no_change=13, random_state=42, tol=1e-05, verbose=True)"
      ]
     },
     "execution_count": 7,
     "metadata": {},
     "output_type": "execute_result"
    }
   ],
   "source": [
    "clf = MLPClassifier(\n",
    "   activation='relu',\n",
    "   alpha=0.01,\n",
    "   beta_1=0.7,\n",
    "   beta_2=0.999,\n",
    "   early_stopping=False,\n",
    "   epsilon=5e-05,\n",
    "   solver='adam',\n",
    "   max_iter= 300,\n",
    "   random_state= 42,\n",
    "   warm_start=False, \n",
    "   verbose=True,\n",
    "   tol=1e-5,\n",
    "   n_iter_no_change=13\n",
    "   )\n",
    "clf.fit(X_train_scaler, y_train)"
   ]
  },
  {
   "cell_type": "markdown",
   "id": "47a3aff2",
   "metadata": {
    "papermill": {
     "duration": 0.028233,
     "end_time": "2022-08-05T20:45:52.993647",
     "exception": false,
     "start_time": "2022-08-05T20:45:52.965414",
     "status": "completed"
    },
    "tags": []
   },
   "source": [
    "# TESTE"
   ]
  },
  {
   "cell_type": "code",
   "execution_count": 8,
   "id": "237ab3d7",
   "metadata": {
    "execution": {
     "iopub.execute_input": "2022-08-05T20:45:53.032608Z",
     "iopub.status.busy": "2022-08-05T20:45:53.032194Z",
     "iopub.status.idle": "2022-08-05T20:45:53.081482Z",
     "shell.execute_reply": "2022-08-05T20:45:53.079778Z"
    },
    "papermill": {
     "duration": 0.073586,
     "end_time": "2022-08-05T20:45:53.086170",
     "exception": false,
     "start_time": "2022-08-05T20:45:53.012584",
     "status": "completed"
    },
    "tags": []
   },
   "outputs": [
    {
     "name": "stdout",
     "output_type": "stream",
     "text": [
      "MLP Conjunto de teste score: 92.47%\n"
     ]
    }
   ],
   "source": [
    "predicted = clf.predict(X_test_scaler)\n",
    "predict_prob = clf.predict_proba(X_test_scaler)[:, 1]\n",
    "print('MLP Conjunto de teste score: {:.2f}%'.format(clf.score(X_test_scaler, y_test) * 100))"
   ]
  },
  {
   "cell_type": "code",
   "execution_count": 9,
   "id": "d8a11138",
   "metadata": {},
   "outputs": [
    {
     "data": {
      "image/png": "[encoded data removed]",
      "text/plain": [
       "<Figure size 432x288 with 1 Axes>"
      ]
     },
     "metadata": {
      "needs_background": "light"
     },
     "output_type": "display_data"
    }
   ],
   "source": [
    "import matplotlib.pyplot as plt\n",
    "\n",
    "plt.plot(clf.loss_curve_)\n",
    "plt.show()"
   ]
  },
  {
   "cell_type": "markdown",
   "id": "e2583384",
   "metadata": {
    "papermill": {
     "duration": 0.050599,
     "end_time": "2022-08-05T20:45:53.201935",
     "exception": false,
     "start_time": "2022-08-05T20:45:53.151336",
     "status": "completed"
    },
    "tags": []
   },
   "source": [
    "# VALIDAÇÃO"
   ]
  },
  {
   "cell_type": "code",
   "execution_count": 10,
   "id": "a15ef3ab",
   "metadata": {
    "execution": {
     "iopub.execute_input": "2022-08-05T20:45:53.240639Z",
     "iopub.status.busy": "2022-08-05T20:45:53.240209Z",
     "iopub.status.idle": "2022-08-05T20:45:53.253706Z",
     "shell.execute_reply": "2022-08-05T20:45:53.252431Z"
    },
    "papermill": {
     "duration": 0.035704,
     "end_time": "2022-08-05T20:45:53.256007",
     "exception": false,
     "start_time": "2022-08-05T20:45:53.220303",
     "status": "completed"
    },
    "tags": []
   },
   "outputs": [],
   "source": [
    "test_path = ('./test/')\n",
    "dirs = os.listdir( test_path )\n",
    "dirs.sort()\n",
    "img_size= 224\n",
    "\n",
    "test_label = []\n",
    "\n",
    "for file in dirs:\n",
    "    if \".jpg\" in file:\n",
    "        test_label.append(file.split('.')[0])"
   ]
  },
  {
   "cell_type": "code",
   "execution_count": 11,
   "id": "54359ace",
   "metadata": {
    "execution": {
     "iopub.execute_input": "2022-08-05T20:45:53.295285Z",
     "iopub.status.busy": "2022-08-05T20:45:53.294040Z",
     "iopub.status.idle": "2022-08-05T20:45:53.753911Z",
     "shell.execute_reply": "2022-08-05T20:45:53.752818Z"
    },
    "papermill": {
     "duration": 0.482323,
     "end_time": "2022-08-05T20:45:53.756848",
     "exception": false,
     "start_time": "2022-08-05T20:45:53.274525",
     "status": "completed"
    },
    "tags": []
   },
   "outputs": [],
   "source": [
    "test_features_array = pd.read_csv('./teste_features_crop_equalise.csv')\n",
    "X_validation_scaler = scaler.transform(test_features_array)"
   ]
  },
  {
   "cell_type": "code",
   "execution_count": 13,
   "id": "5b48be5a",
   "metadata": {
    "execution": {
     "iopub.execute_input": "2022-08-05T20:45:53.795517Z",
     "iopub.status.busy": "2022-08-05T20:45:53.795098Z",
     "iopub.status.idle": "2022-08-05T20:45:53.833822Z",
     "shell.execute_reply": "2022-08-05T20:45:53.832349Z"
    },
    "papermill": {
     "duration": 0.063345,
     "end_time": "2022-08-05T20:45:53.838315",
     "exception": false,
     "start_time": "2022-08-05T20:45:53.774970",
     "status": "completed"
    },
    "tags": []
   },
   "outputs": [
    {
     "name": "stdout",
     "output_type": "stream",
     "text": [
      "[0 1 2 3]\n"
     ]
    }
   ],
   "source": [
    "print(clf.classes_)\n",
    "\n",
    "pandas_result = pd.DataFrame(predicted, test_label, columns = ['Label'])\n",
    "pandas_result.to_csv('./MLP_MULTI.csv', index=True, index_label=\"ImageId\")"
   ]
  }
 ],
 "metadata": {
  "kernelspec": {
   "display_name": "Python 3.9.13 ('tf_2.7')",
   "language": "python",
   "name": "python3"
  },
  "language_info": {
   "codemirror_mode": {
    "name": "ipython",
    "version": 3
   },
   "file_extension": ".py",
   "mimetype": "text/x-python",
   "name": "python",
   "nbconvert_exporter": "python",
   "pygments_lexer": "ipython3",
   "version": "3.9.13"
  },
  "papermill": {
   "default_parameters": {},
   "duration": 4502.367383,
   "end_time": "2022-08-05T20:45:56.714870",
   "environment_variables": {},
   "exception": null,
   "input_path": "__notebook__.ipynb",
   "output_path": "__notebook__.ipynb",
   "parameters": {},
   "start_time": "2022-08-05T19:30:54.347487",
   "version": "2.3.4"
  },
  "vscode": {
   "interpreter": {
    "hash": "44588579933afcba3dd84e72417e746017e151b615ee068807749488be21dd91"
   }
  }
 },
 "nbformat": 4,
 "nbformat_minor": 5
}
